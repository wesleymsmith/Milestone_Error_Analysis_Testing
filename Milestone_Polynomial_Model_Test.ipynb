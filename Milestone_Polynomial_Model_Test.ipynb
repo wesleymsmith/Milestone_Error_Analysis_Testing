{
 "cells": [
  {
   "cell_type": "code",
   "execution_count": 4,
   "metadata": {},
   "outputs": [],
   "source": [
    "import numpy as np\n",
    "import pandas as pd\n",
    "import matplotlib\n",
    "\n",
    "from matplotlib import pyplot as plt\n",
    "import seaborn as sns\n",
    "\n",
    "import plotly as ply\n",
    "\n",
    "import tqdm\n",
    "import gc\n",
    "import sys\n",
    "import os\n",
    "\n",
    "import scipy as sp"
   ]
  },
  {
   "cell_type": "code",
   "execution_count": 342,
   "metadata": {},
   "outputs": [],
   "source": [
    "class Simple_1D_BD_Sim:\n",
    "    def __init__(\n",
    "        self, \n",
    "        potential_gradient_function,\n",
    "        parameter_dict=None, \n",
    "        starting_coordinates=0, #technically 'coordinate' since this is 1D #1D function,takes a coordinate (x) and yields grad(U(x)). I.e. dU/dx\n",
    "    ):\n",
    "        self.kb=0.001985875 #kcal/(mol*K)\n",
    "        self.parameter_dict=dict(\n",
    "            diffusionConstant=1.0, #in Å**2*kcal/(mol*fs) -> i.e. square distance * energy per (mol) time unit\n",
    "            temperature=310.15, # Kelvins (default = normal body temperature),\n",
    "            vmax=1.5, #maximum allowed velocity (violation will terminate simulation due to instability)\n",
    "            trajectorySnapshotRate=100, #number of steps between saving to trajectory data\n",
    "            periodicBoundaryLength=None,\n",
    "            verbose=False,\n",
    "        )\n",
    "        if not (parameter_dict is None):\n",
    "            self.set_parameters(parameter_dict)\n",
    "        if not (starting_coordinates is None):\n",
    "            self.x0=starting_coordinates\n",
    "        else:\n",
    "            self.x0=0\n",
    "            \n",
    "        self.set_potential_gradient_function(potential_gradient_function)\n",
    "        \n",
    "        \n",
    "    def set_parameters(self,parameter_dict):\n",
    "        for parameterName in parameter_dict:\n",
    "            if parameterName in self.parameter_dict: #make sure we dont add unsupported parameters\n",
    "                self.parameter_dict[parameterName]=parameter_dict[parameterName]\n",
    "            elif self.parameter_dict['verbose']:\n",
    "                print('Warning: parameter \"%s\" not supported'%(str(parameterName)))\n",
    "    \n",
    "    def set_potential_gradient_function(self,potential_gradient_function):\n",
    "        self.potential_gradient_function=potential_gradient_function\n",
    "   \n",
    "    def set_x0(self,x0):\n",
    "        self.x0=x0\n",
    "        \n",
    "    def run_sim(\n",
    "        self,\n",
    "        nsteps=10000,\n",
    "        giveVelocities=False,\n",
    "        randomSeed=None,\n",
    "        pbar=None,\n",
    "    ):\n",
    "        \n",
    "        x=self.x0\n",
    "        bPBL=self.parameter_dict['periodicBoundaryLength']\n",
    "        if not (bPBL is None):\n",
    "            x=x%bPBL\n",
    "        bD=self.parameter_dict['diffusionConstant']\n",
    "        kb=self.kb\n",
    "        bT=self.parameter_dict['temperature']\n",
    "        trajInterval=self.parameter_dict['trajectorySnapshotRate']\n",
    "        verbose=self.parameter_dict['verbose']\n",
    "        bVmax=self.parameter_dict['vmax']\n",
    "        gradUfun=self.potential_gradient_function\n",
    "        print(nsteps)\n",
    "        if not (randomSeed is None): #in case we want to specify a specific random seed for reproducibility\n",
    "            np.random.seed(randomSeed)\n",
    "        trajectoryData=np.zeros(int(nsteps/trajInterval))\n",
    "        if giveVelocities:\n",
    "            velocityData=np.zeros(nsteps)\n",
    "        \n",
    "        tStep=0    \n",
    "        stable=True\n",
    "        # X'(t)=-D/(kbT)*grad(U(X))+√(2D)*R(t)\n",
    "        #R -> stationary gaussian process\n",
    "        while (tStep<nsteps) and stable:\n",
    "            v=-bD/(kb*bT)*gradUfun(x)+np.sqrt(2*bD)*np.random.standard_normal()\n",
    "            if (tStep%trajInterval) == 0:\n",
    "                trajectoryData[int(tStep/trajInterval)]=x\n",
    "                if giveVelocities:\n",
    "                    velocityData[int(tStep/trajInterval)]=v\n",
    "            if np.abs(v)>bVmax:\n",
    "                stable=False\n",
    "                if verbose:\n",
    "                    print(\n",
    "                        (\"ERROR (step %g): velocity (%.3e) exceeds maximum (%.3e),\"+\\\n",
    "                        \"simulation terminated due to instability\")%(\n",
    "                            tStep,v,bVmax\n",
    "                        )\n",
    "                    )\n",
    "            if not pbar is None:\n",
    "                pbar.update()\n",
    "            x=x+v\n",
    "            if not (bPBL is None):\n",
    "                x=x%bPBL\n",
    "            tStep=tStep+1\n",
    "        outDict=dict(\n",
    "            trajectory=trajectoryData[:(int(tStep/trajInterval)+1)]\n",
    "        )\n",
    "        if giveVelocities:\n",
    "            outDict['velocities']=velocityData[:(int(tStep/trajInterval)+1)]\n",
    "        return(outDict)"
   ]
  },
  {
   "cell_type": "markdown",
   "metadata": {},
   "source": [
    "## Simple symetric case"
   ]
  },
  {
   "cell_type": "code",
   "execution_count": 263,
   "metadata": {},
   "outputs": [
    {
     "data": {
      "image/png": "[encoded data removed]",
      "text/plain": [
       "<Figure size 432x288 with 1 Axes>"
      ]
     },
     "metadata": {
      "needs_background": "light"
     },
     "output_type": "display_data"
    }
   ],
   "source": [
    "def potFun(x):\n",
    "    return(1.0/1024.0*(x/10.)**6-.0625*(x/10.)**2)\n",
    "def potGradFun(x):\n",
    "    return(6.0/1024.0*(x/10.)**5-.125*(x/10.))\n",
    "\n",
    "xgrid=np.linspace(-30,30,101)\n",
    "sns.lineplot(\n",
    "    x=xgrid,\n",
    "    y=potFun(xgrid),\n",
    "    label='U(X) (kcal/mol)'\n",
    ")\n",
    "sns.lineplot(\n",
    "    x=xgrid,\n",
    "    y=potGradFun(xgrid),\n",
    "    label='grad(U(X)) (kcal/(mol*Å))'\n",
    ")\n",
    "plt.ylim(-.5,.5)\n",
    "plt.xlabel('X (Å)')\n",
    "plt.show()"
   ]
  },
  {
   "cell_type": "code",
   "execution_count": 189,
   "metadata": {},
   "outputs": [],
   "source": [
    "#Air(g)-water(g) diffusion constant: .282 cm**2/s (at 25 ºC)\n",
    "# -> (10**-8)**2/10**-15 = 10**-1 Å**2/fs per cm**2/s\n",
    "# so Air-water = .0282 Å**2/fs\n",
    "diffCoef=.0282*310.15/398.15 #Approximate scaling to body temperature \n",
    "\n",
    "bd_Sim=Simple_1D_BD_Sim(potGradFun)\n",
    "bd_Sim.set_parameters(dict(\n",
    "    diffusionConstant=diffCoef,\n",
    "    vmax=15.0,\n",
    "    trajectorySnapshotRate=1000,\n",
    "    verbose=True,\n",
    "))\n",
    "bd_Sim.set_x0(-25.)"
   ]
  },
  {
   "cell_type": "code",
   "execution_count": 190,
   "metadata": {},
   "outputs": [
    {
     "data": {
      "text/plain": [
       "'x0=-25.000000'"
      ]
     },
     "metadata": {},
     "output_type": "display_data"
    },
    {
     "data": {
      "text/plain": [
       "{'diffusionConstant': 0.029139530234882558,\n",
       " 'temperature': 310.15,\n",
       " 'vmax': 15.0,\n",
       " 'trajectorySnapshotRate': 1000,\n",
       " 'periodicBoundaryLength': None,\n",
       " 'verbose': True}"
      ]
     },
     "execution_count": 190,
     "metadata": {},
     "output_type": "execute_result"
    }
   ],
   "source": [
    "display('x0=%f'%bd_Sim.x0)\n",
    "bd_Sim.parameter_dict"
   ]
  },
  {
   "cell_type": "code",
   "execution_count": 191,
   "metadata": {},
   "outputs": [
    {
     "name": "stderr",
     "output_type": "stream",
     "text": [
      "/home/wesley/.local/lib/python3.7/site-packages/ipykernel_launcher.py:2: TqdmDeprecationWarning: This function will be removed in tqdm==5.0.0\n",
      "Please use `tqdm.notebook.tqdm` instead of `tqdm.tqdm_notebook`\n",
      "  \n"
     ]
    },
    {
     "data": {
      "application/vnd.jupyter.widget-view+json": {
       "model_id": "2f6d9919148a4a49900e218184ad2ee7",
       "version_major": 2,
       "version_minor": 0
      },
      "text/plain": [
       "HBox(children=(HTML(value=''), FloatProgress(value=0.0, max=100000000.0), HTML(value='')))"
      ]
     },
     "metadata": {},
     "output_type": "display_data"
    },
    {
     "name": "stdout",
     "output_type": "stream",
     "text": [
      "100000000\n"
     ]
    }
   ],
   "source": [
    "nsteps=100000000\n",
    "trajData=bd_Sim.run_sim(nsteps=nsteps,pbar=tqdm.tqdm_notebook(total=nsteps))"
   ]
  },
  {
   "cell_type": "code",
   "execution_count": 197,
   "metadata": {},
   "outputs": [
    {
     "data": {
      "image/png": "[encoded data removed]",
      "text/plain": [
       "<Figure size 432x288 with 1 Axes>"
      ]
     },
     "metadata": {
      "needs_background": "light"
     },
     "output_type": "display_data"
    }
   ],
   "source": [
    "sns.lineplot(\n",
    "    x=np.arange(len(trajData['trajectory']))*.01,\n",
    "    y=trajData['trajectory']\n",
    ")\n",
    "plt.ylabel('X (Å)')\n",
    "plt.xlabel('Time (ns)')\n",
    "plt.show()"
   ]
  },
  {
   "cell_type": "code",
   "execution_count": 198,
   "metadata": {},
   "outputs": [
    {
     "data": {
      "image/png": "[encoded data removed]",
      "text/plain": [
       "<Figure size 432x288 with 1 Axes>"
      ]
     },
     "metadata": {
      "needs_background": "light"
     },
     "output_type": "display_data"
    }
   ],
   "source": [
    "plt.hist(\n",
    "    x=trajData['trajectory'],\n",
    "    bins=31,\n",
    "    density=True,\n",
    "    log=True\n",
    ")\n",
    "plt.show()"
   ]
  },
  {
   "cell_type": "code",
   "execution_count": 199,
   "metadata": {},
   "outputs": [
    {
     "data": {
      "text/plain": [
       "(array([  235,  1672,  5527,  9380, 10139,  8338,  5760,  3733,  2362,\n",
       "         1518,  1028,   703,   587,   500,   375,   441,   457,   523,\n",
       "          724,   969,  1406,  2172,  3565,  5361,  7754,  9477,  8352,\n",
       "         5073,  1625,   223]),\n",
       " array([-30., -28., -26., -24., -22., -20., -18., -16., -14., -12., -10.,\n",
       "         -8.,  -6.,  -4.,  -2.,   0.,   2.,   4.,   6.,   8.,  10.,  12.,\n",
       "         14.,  16.,  18.,  20.,  22.,  24.,  26.,  28.,  30.]))"
      ]
     },
     "execution_count": 199,
     "metadata": {},
     "output_type": "execute_result"
    }
   ],
   "source": [
    "np.histogram(trajData['trajectory'],bins=np.linspace(-30,30,31))"
   ]
  },
  {
   "cell_type": "code",
   "execution_count": 265,
   "metadata": {},
   "outputs": [
    {
     "data": {
      "text/plain": [
       "3000.0"
      ]
     },
     "execution_count": 265,
     "metadata": {},
     "output_type": "execute_result"
    }
   ],
   "source": [
    "3E2*10"
   ]
  },
  {
   "cell_type": "markdown",
   "metadata": {},
   "source": [
    "## Simple Asymmetric Case"
   ]
  },
  {
   "cell_type": "code",
   "execution_count": 380,
   "metadata": {},
   "outputs": [
    {
     "data": {
      "image/png": "[encoded data removed]",
      "text/plain": [
       "<Figure size 432x288 with 1 Axes>"
      ]
     },
     "metadata": {
      "needs_background": "light"
     },
     "output_type": "display_data"
    }
   ],
   "source": [
    "tempx=np.linspace(-35,35,1401)\n",
    "def potFun2(x):\n",
    "    return -.5*(((tempx-.67)/3.)**4-4)/(((tempx-.67)/3.)**4+4) + \\\n",
    "            .5*((tempx/3.)**2-2)/((tempx/3.)**2+2)+ \\\n",
    "            .125*(x>30.0)*(30.-x)**2 + \\\n",
    "            .125*(x<-30.0)*(-30.-x)**2\n",
    "\n",
    "def potGradFun2(x):\n",
    "    return ((36* x**9 - 192.96* x**8 - 843.509* x**7 + 1998.62* x**6 - 24565.5* x**5 + \\\n",
    "         31377.1* x**4 - 419813.* x**3 + 829957.* x**2 + 3.21835E6* x + 126292.)/ \\\n",
    "        ((x**2 + 18)**2 *(x**4 - 2.68* x**3 + 2.6934* x**2 - 1.20305* x + 324.202)**2)) - \\\n",
    "        .250*(x>30.0)*(30.-x) - .250*(x<-30.)*(-30.-x)\n",
    "\n",
    "sns.lineplot(x=tempx,y=tempx*0.,label=0,color='grey')\n",
    "sns.lineplot(x=tempx,y=potFun2(tempx),label=\"U(X)\")\n",
    "sns.lineplot(x=tempx,y=potGradFun2(tempx),label=\"grad(U(X))\")\n",
    "plt.ylim(-.3,.3)\n",
    "plt.show()"
   ]
  },
  {
   "cell_type": "code",
   "execution_count": 381,
   "metadata": {},
   "outputs": [],
   "source": [
    "#Air(g)-water(g) diffusion constant: .282 cm**2/s (at 25 ºC)\n",
    "# -> (10**-8)**2/10**-15 = 10**-1 Å**2/fs per cm**2/s\n",
    "# so Air-water = .0282 Å**2/fs\n",
    "diffCoef=.0282*310.15/398.15 #Approximate scaling to body temperature \n",
    "\n",
    "bd_Sim2=Simple_1D_BD_Sim(potGradFun2)\n",
    "bd_Sim2.set_parameters(dict(\n",
    "    diffusionConstant=diffCoef,\n",
    "    vmax=100.0,\n",
    "    trajectorySnapshotRate=1000,\n",
    "    verbose=True,\n",
    "))\n",
    "bd_Sim2.set_x0(-25.)"
   ]
  },
  {
   "cell_type": "code",
   "execution_count": 382,
   "metadata": {},
   "outputs": [
    {
     "data": {
      "text/plain": [
       "'x0=-25.000000'"
      ]
     },
     "metadata": {},
     "output_type": "display_data"
    },
    {
     "data": {
      "text/plain": [
       "{'diffusionConstant': 0.021967173175938715,\n",
       " 'temperature': 310.15,\n",
       " 'vmax': 100.0,\n",
       " 'trajectorySnapshotRate': 1000,\n",
       " 'periodicBoundaryLength': None,\n",
       " 'verbose': True}"
      ]
     },
     "execution_count": 382,
     "metadata": {},
     "output_type": "execute_result"
    }
   ],
   "source": [
    "display('x0=%f'%bd_Sim2.x0)\n",
    "bd_Sim2.parameter_dict"
   ]
  },
  {
   "cell_type": "code",
   "execution_count": 383,
   "metadata": {},
   "outputs": [
    {
     "name": "stderr",
     "output_type": "stream",
     "text": [
      "/home/wesley/.local/lib/python3.7/site-packages/ipykernel_launcher.py:5: TqdmDeprecationWarning: This function will be removed in tqdm==5.0.0\n",
      "Please use `tqdm.notebook.tqdm` instead of `tqdm.tqdm_notebook`\n",
      "  \"\"\"\n"
     ]
    },
    {
     "data": {
      "application/vnd.jupyter.widget-view+json": {
       "model_id": "bea34ca7a1754b3dbbe3f47e79d17034",
       "version_major": 2,
       "version_minor": 0
      },
      "text/plain": [
       "HBox(children=(HTML(value=''), FloatProgress(value=0.0, max=100000000.0), HTML(value='')))"
      ]
     },
     "metadata": {},
     "output_type": "display_data"
    },
    {
     "name": "stdout",
     "output_type": "stream",
     "text": [
      "100000000\n"
     ]
    }
   ],
   "source": [
    "nsteps=100000000\n",
    "trajData2=bd_Sim2.run_sim(\n",
    "    nsteps=nsteps,\n",
    "    giveVelocities=True,\n",
    "    pbar=tqdm.tqdm_notebook(total=nsteps))"
   ]
  },
  {
   "cell_type": "code",
   "execution_count": 384,
   "metadata": {},
   "outputs": [
    {
     "data": {
      "text/plain": [
       "{'trajectory': array([-25.        , -21.00675336, -24.69071843, ...,   2.18186446,\n",
       "          4.33604269,  11.15192391]),\n",
       " 'velocities': array([-0.20703223,  0.04243883, -0.30779361, ...,  0.13696093,\n",
       "        -0.23330446,  0.        ])}"
      ]
     },
     "execution_count": 384,
     "metadata": {},
     "output_type": "execute_result"
    }
   ],
   "source": [
    "trajData2"
   ]
  },
  {
   "cell_type": "code",
   "execution_count": 385,
   "metadata": {},
   "outputs": [
    {
     "name": "stdout",
     "output_type": "stream",
     "text": [
      "\n"
     ]
    },
    {
     "data": {
      "image/png": "[encoded data removed]",
      "text/plain": [
       "<Figure size 432x288 with 1 Axes>"
      ]
     },
     "metadata": {
      "needs_background": "light"
     },
     "output_type": "display_data"
    }
   ],
   "source": [
    "sns.lineplot(\n",
    "    x=np.arange(len(trajData2['trajectory']))*.01,\n",
    "    y=trajData2['trajectory']\n",
    ")\n",
    "plt.ylabel('X (Å)')\n",
    "plt.xlabel('Time (ns)')\n",
    "plt.ylim(-35,35)\n",
    "plt.show()"
   ]
  },
  {
   "cell_type": "code",
   "execution_count": 386,
   "metadata": {},
   "outputs": [
    {
     "data": {
      "image/png": "[encoded data removed]",
      "text/plain": [
       "<Figure size 432x288 with 1 Axes>"
      ]
     },
     "metadata": {
      "needs_background": "light"
     },
     "output_type": "display_data"
    }
   ],
   "source": [
    "sns.lineplot(\n",
    "    x=np.arange(len(trajData2['velocities']))*.01,\n",
    "    y=trajData2['velocities']\n",
    ")\n",
    "plt.ylabel('X (Å)')\n",
    "plt.xlabel('Time (ns)')\n",
    "plt.ylim(-10,10)\n",
    "plt.show()"
   ]
  },
  {
   "cell_type": "code",
   "execution_count": 388,
   "metadata": {},
   "outputs": [
    {
     "data": {
      "image/png": "[encoded data removed]",
      "text/plain": [
       "<Figure size 432x288 with 1 Axes>"
      ]
     },
     "metadata": {
      "needs_background": "light"
     },
     "output_type": "display_data"
    }
   ],
   "source": [
    "plt.hist(\n",
    "    x=trajData2['trajectory'],\n",
    "    bins=31,\n",
    "    density=True,\n",
    "    #log=True\n",
    ")\n",
    "plt.show()"
   ]
  },
  {
   "cell_type": "code",
   "execution_count": null,
   "metadata": {},
   "outputs": [],
   "source": []
  }
 ],
 "metadata": {
  "kernelspec": {
   "display_name": "Python 3",
   "language": "python",
   "name": "python3"
  },
  "language_info": {
   "codemirror_mode": {
    "name": "ipython",
    "version": 3
   },
   "file_extension": ".py",
   "mimetype": "text/x-python",
   "name": "python",
   "nbconvert_exporter": "python",
   "pygments_lexer": "ipython3",
   "version": "3.7.5"
  }
 },
 "nbformat": 4,
 "nbformat_minor": 4
}
