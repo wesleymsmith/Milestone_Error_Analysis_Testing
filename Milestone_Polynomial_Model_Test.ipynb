{
 "cells": [
  {
   "cell_type": "code",
   "execution_count": 4,
   "metadata": {},
   "outputs": [],
   "source": [
    "import numpy as np\n",
    "import pandas as pd\n",
    "import matplotlib\n",
    "\n",
    "from matplotlib import pyplot as plt\n",
    "import seaborn as sns\n",
    "\n",
    "import plotly as ply\n",
    "\n",
    "import tqdm\n",
    "import gc\n",
    "import sys\n",
    "import os\n",
    "\n",
    "import scipy as sp"
   ]
  },
  {
   "cell_type": "code",
   "execution_count": 142,
   "metadata": {},
   "outputs": [],
   "source": [
    "class Simple_1D_BD_Sim:\n",
    "    def __init__(\n",
    "        self, \n",
    "        potential_gradient_function,\n",
    "        parameter_dict=None, \n",
    "        starting_coordinates=0, #technically 'coordinate' since this is 1D #1D function,takes a coordinate (x) and yields grad(U(x)). I.e. dU/dx\n",
    "    ):\n",
    "        self.kb=0.001985875 #kcal/(mol*K)\n",
    "        self.parameter_dict=dict(\n",
    "            diffusionConstant=1.0, #in Å^2*kcal/(mol*fs) -> i.e. square distance * energy per (mol) time unit\n",
    "            temperature=310.15, # Kelvins (default = normal body temperature),\n",
    "            vmax=1.5, #maximum allowed velocity (violation will terminate simulation due to instability)\n",
    "            trajectorySnapshotRate=100, #number of steps between saving to trajectory data\n",
    "            periodicBoundaryLength=None,\n",
    "            verbose=False,\n",
    "        )\n",
    "        if not (parameter_dict is None):\n",
    "            self.set_parameters(parameter_dict)\n",
    "        if not (starting_coordinates is None):\n",
    "            self.x0=starting_coordinates\n",
    "        else:\n",
    "            self.x0=0\n",
    "            \n",
    "        self.set_potential_gradient_function(potential_gradient_function)\n",
    "        \n",
    "        \n",
    "    def set_parameters(self,parameter_dict):\n",
    "        for parameterName in parameter_dict:\n",
    "            if parameterName in self.parameter_dict: #make sure we dont add unsupported parameters\n",
    "                self.parameter_dict[parameterName]=parameter_dict[parameterName]\n",
    "            elif self.parameter_dict['verbose']:\n",
    "                print('Warning: parameter \"%s\" not supported'%(str(parameterName)))\n",
    "    \n",
    "    def set_potential_gradient_function(self,potential_gradient_function):\n",
    "        self.potential_gradient_function=potential_gradient_function\n",
    "   \n",
    "    def set_x0(self,x0):\n",
    "        self.x0=x0\n",
    "        \n",
    "    def run_sim(\n",
    "        self,\n",
    "        nsteps=10000,\n",
    "        giveVelocities=False,\n",
    "        randomSeed=None,\n",
    "        pbar=None,\n",
    "    ):\n",
    "        \n",
    "        x=self.x0\n",
    "        bPBL=self.parameter_dict['periodicBoundaryLength']\n",
    "        if not (bPBL is None):\n",
    "            x=x%bPBL\n",
    "        bD=self.parameter_dict['diffusionConstant']\n",
    "        kb=self.kb\n",
    "        bT=self.parameter_dict['temperature']\n",
    "        trajInterval=self.parameter_dict['trajectorySnapshotRate']\n",
    "        verbose=self.parameter_dict['verbose']\n",
    "        bVmax=self.parameter_dict['vmax']\n",
    "        gradUfun=self.potential_gradient_function\n",
    "        print(nsteps)\n",
    "        if not (randomSeed is None): #in case we want to specify a specific random seed for reproducibility\n",
    "            np.random.seed(randomSeed)\n",
    "        trajectoryData=np.zeros(int(nsteps/trajInterval))\n",
    "        if giveVelocities:\n",
    "            velocityData=np.zeros(nsteps)\n",
    "        \n",
    "        tStep=0    \n",
    "        stable=True\n",
    "        # X'(t)=-D/(kbT)*grad(U(X))+√(2D)*R(t)\n",
    "        #R -> stationary gaussian process\n",
    "        while (tStep<nsteps) and stable:\n",
    "            v=-bD/(kb*bT)*gradUfun(x)+np.sqrt(2*bD)*np.random.standard_normal()\n",
    "            if (tStep%trajInterval) == 0:\n",
    "                trajectoryData[int(tStep/trajInterval)]=x\n",
    "                if giveVelocities:\n",
    "                    velocityData[int(tStep/trajInterval)]=v\n",
    "            if np.abs(v)>bVmax:\n",
    "                stable=False\n",
    "                if verbose:\n",
    "                    print(\n",
    "                        (\"ERROR (step %g): velocity (%.3e) exceeds maximum (%.3e),\"+\\\n",
    "                        \"simulation terminated due to instability\")%(\n",
    "                            tStep,v,bVmax\n",
    "                        )\n",
    "                    )\n",
    "            if not pbar is None:\n",
    "                pbar.update()\n",
    "            x=x+v\n",
    "            if not (bPBL is None):\n",
    "                x=x%bPBL\n",
    "            tStep=tStep+1\n",
    "        outDict=dict(\n",
    "            trajectory=trajectoryData[:(int(tStep/trajInterval)+1)]\n",
    "        )\n",
    "        if giveVelocities:\n",
    "            velocities=velocityData[:(int(tStep/trajInterval)+1)]\n",
    "        return(outDict)"
   ]
  },
  {
   "cell_type": "code",
   "execution_count": 116,
   "metadata": {},
   "outputs": [
    {
     "data": {
      "text/plain": [
       "0.6159191312499999"
      ]
     },
     "execution_count": 116,
     "metadata": {},
     "output_type": "execute_result"
    }
   ],
   "source": [
    "0.001985875*310.15"
   ]
  },
  {
   "cell_type": "code",
   "execution_count": 178,
   "metadata": {},
   "outputs": [],
   "source": [
    "#Air(g)-water(g) diffusion constant: .282 cm^2/s (at 25 ºC)\n",
    "# -> (10^-8)^2/10^-15 = 10^-1 Å^2/fs per cm^2/s\n",
    "# so Air-water = .0282 Å^2/fs"
   ]
  },
  {
   "cell_type": "code",
   "execution_count": 172,
   "metadata": {},
   "outputs": [],
   "source": [
    "def potFun(x):\n",
    "    return(1.0/1024.0*(x/10.)**6-.0625*(x/10.)**2)\n",
    "def potGradFun(x):\n",
    "    return(6.0/1024.0*(x/10.)**5-.125*(x/10.))\n",
    "\n",
    "diffCoef=.0282*310.15/300.15 #Approximate scaling to body temperature \n",
    "bd_Sim=Simple_1D_BD_Sim(potGradFun)\n",
    "bd_Sim.set_parameters(dict(\n",
    "    diffusionConstant=diffCoef,\n",
    "    vmax=15.0,\n",
    "    trajectorySnapshotRate=10000,\n",
    "    verbose=True,\n",
    "))\n",
    "bd_Sim.set_x0(-25.)"
   ]
  },
  {
   "cell_type": "code",
   "execution_count": 173,
   "metadata": {},
   "outputs": [
    {
     "data": {
      "text/plain": [
       "'x0=-25.000000'"
      ]
     },
     "metadata": {},
     "output_type": "display_data"
    },
    {
     "data": {
      "text/plain": [
       "{'diffusionConstant': 0.029139999999999996,\n",
       " 'temperature': 310.15,\n",
       " 'vmax': 15.0,\n",
       " 'trajectorySnapshotRate': 10000,\n",
       " 'periodicBoundaryLength': None,\n",
       " 'verbose': True}"
      ]
     },
     "execution_count": 173,
     "metadata": {},
     "output_type": "execute_result"
    }
   ],
   "source": [
    "display('x0=%f'%bd_Sim.x0)\n",
    "bd_Sim.parameter_dict"
   ]
  },
  {
   "cell_type": "code",
   "execution_count": 174,
   "metadata": {},
   "outputs": [
    {
     "name": "stderr",
     "output_type": "stream",
     "text": [
      "/home/wesley/.local/lib/python3.7/site-packages/ipykernel_launcher.py:2: TqdmDeprecationWarning: This function will be removed in tqdm==5.0.0\n",
      "Please use `tqdm.notebook.tqdm` instead of `tqdm.tqdm_notebook`\n",
      "  \n"
     ]
    },
    {
     "data": {
      "application/vnd.jupyter.widget-view+json": {
       "model_id": "0dc8a601cb7b46c6bfb30edffb25f3e9",
       "version_major": 2,
       "version_minor": 0
      },
      "text/plain": [
       "HBox(children=(HTML(value=''), FloatProgress(value=0.0, max=100000000.0), HTML(value='')))"
      ]
     },
     "metadata": {},
     "output_type": "display_data"
    },
    {
     "name": "stdout",
     "output_type": "stream",
     "text": [
      "100000000\n"
     ]
    }
   ],
   "source": [
    "nsteps=100000000\n",
    "trajData=bd_Sim.run_sim(nsteps=nsteps,pbar=tqdm.tqdm_notebook(total=nsteps))"
   ]
  },
  {
   "cell_type": "code",
   "execution_count": 175,
   "metadata": {},
   "outputs": [
    {
     "name": "stdout",
     "output_type": "stream",
     "text": [
      "\n"
     ]
    },
    {
     "data": {
      "image/png": "[encoded data removed]",
      "text/plain": [
       "<Figure size 432x288 with 1 Axes>"
      ]
     },
     "metadata": {
      "needs_background": "light"
     },
     "output_type": "display_data"
    }
   ],
   "source": [
    "xgrid=np.linspace(-30,30,101)\n",
    "sns.lineplot(\n",
    "    x=xgrid,\n",
    "    y=potFun(xgrid),\n",
    "    label='U(X) (kcal/mol)'\n",
    ")\n",
    "sns.lineplot(\n",
    "    x=xgrid,\n",
    "    y=potGradFun(xgrid),\n",
    "    label='grad(U(X)) (kcal/(mol*Å))'\n",
    ")\n",
    "plt.ylim(-.5,.5)\n",
    "plt.xlabel('X (Å)')\n",
    "plt.show()"
   ]
  },
  {
   "cell_type": "code",
   "execution_count": 176,
   "metadata": {},
   "outputs": [
    {
     "data": {
      "image/png": "[encoded data removed]",
      "text/plain": [
       "<Figure size 432x288 with 1 Axes>"
      ]
     },
     "metadata": {
      "needs_background": "light"
     },
     "output_type": "display_data"
    }
   ],
   "source": [
    "sns.lineplot(\n",
    "    x=np.arange(len(trajData['trajectory']))*.01,\n",
    "    y=trajData['trajectory']\n",
    ")\n",
    "plt.ylabel('X (Å)')\n",
    "plt.xlabel('Time (ns)')\n",
    "plt.show()"
   ]
  },
  {
   "cell_type": "code",
   "execution_count": 177,
   "metadata": {},
   "outputs": [
    {
     "data": {
      "image/png": "[encoded data removed]",
      "text/plain": [
       "<Figure size 432x288 with 1 Axes>"
      ]
     },
     "metadata": {
      "needs_background": "light"
     },
     "output_type": "display_data"
    }
   ],
   "source": [
    "plt.hist(\n",
    "    x=trajData['trajectory'],\n",
    "    bins=np.linspace(-30,30,61),\n",
    "    density=True,\n",
    "    log=True\n",
    ")\n",
    "plt.show()"
   ]
  },
  {
   "cell_type": "code",
   "execution_count": 179,
   "metadata": {},
   "outputs": [
    {
     "data": {
      "text/plain": [
       "10000"
      ]
     },
     "execution_count": 179,
     "metadata": {},
     "output_type": "execute_result"
    }
   ],
   "source": [
    "len(trajData['trajectory'])"
   ]
  },
  {
   "cell_type": "code",
   "execution_count": null,
   "metadata": {},
   "outputs": [],
   "source": []
  }
 ],
 "metadata": {
  "kernelspec": {
   "display_name": "Python 3",
   "language": "python",
   "name": "python3"
  },
  "language_info": {
   "codemirror_mode": {
    "name": "ipython",
    "version": 3
   },
   "file_extension": ".py",
   "mimetype": "text/x-python",
   "name": "python",
   "nbconvert_exporter": "python",
   "pygments_lexer": "ipython3",
   "version": "3.7.5"
  }
 },
 "nbformat": 4,
 "nbformat_minor": 4
}
