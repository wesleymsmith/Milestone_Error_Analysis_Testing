{
 "cells": [
  {
   "cell_type": "code",
   "execution_count": 423,
   "metadata": {},
   "outputs": [
    {
     "name": "stdout",
     "output_type": "stream",
     "text": [
      "/data/wesley/Milestone_Error_Analysis_Testing\n",
      "Milestone_Polynomial_Model_Test.ipynb  analysis_functions.py\n",
      "README.md\t\t\t       asymmetric_case.raw_trajectory_data.csv\n",
      "Untitled.ipynb\t\t\t       symmetric_case.raw_trajectory_data.csv\n"
     ]
    }
   ],
   "source": [
    "# Only need this cell if you are using jupyter lab. Change path as needed\n",
    "#%cd /data/wesley/Milestone_Error_Analysis_Testing\n",
    "#!ls"
   ]
  },
  {
   "cell_type": "code",
   "execution_count": 393,
   "metadata": {},
   "outputs": [],
   "source": [
    "import numpy as np\n",
    "import pandas as pd\n",
    "import matplotlib\n",
    "\n",
    "from matplotlib import pyplot as plt\n",
    "import seaborn as sns\n",
    "\n",
    "import plotly as ply\n",
    "\n",
    "import tqdm\n",
    "import gc\n",
    "import sys\n",
    "import os\n",
    "\n",
    "import scipy as sp"
   ]
  },
  {
   "cell_type": "markdown",
   "metadata": {},
   "source": [
    "# Define Simple 1 Dimensional 1 Particle Brownian Dynamics Simulation"
   ]
  },
  {
   "cell_type": "code",
   "execution_count": 394,
   "metadata": {},
   "outputs": [],
   "source": [
    "class Simple_1D_BD_Sim:\n",
    "    def __init__(\n",
    "        self, \n",
    "        potential_gradient_function,\n",
    "        parameter_dict=None, \n",
    "        starting_coordinates=0, #technically 'coordinate' since this is 1D #1D function,takes a coordinate (x) and yields grad(U(x)). I.e. dU/dx\n",
    "    ):\n",
    "        self.kb=0.001985875 #kcal/(mol*K)\n",
    "        self.parameter_dict=dict(\n",
    "            diffusionConstant=1.0, #in Å**2*kcal/(mol*fs) -> i.e. square distance * energy per (mol) time unit\n",
    "            temperature=310.15, # Kelvins (default = normal body temperature),\n",
    "            vmax=1.5, #maximum allowed velocity (violation will terminate simulation due to instability)\n",
    "            trajectorySnapshotRate=100, #number of steps between saving to trajectory data\n",
    "            periodicBoundaryLength=None,\n",
    "            verbose=False,\n",
    "        )\n",
    "        if not (parameter_dict is None):\n",
    "            self.set_parameters(parameter_dict)\n",
    "        if not (starting_coordinates is None):\n",
    "            self.x0=starting_coordinates\n",
    "        else:\n",
    "            self.x0=0\n",
    "            \n",
    "        self.set_potential_gradient_function(potential_gradient_function)\n",
    "        \n",
    "        \n",
    "    def set_parameters(self,parameter_dict):\n",
    "        for parameterName in parameter_dict:\n",
    "            if parameterName in self.parameter_dict: #make sure we dont add unsupported parameters\n",
    "                self.parameter_dict[parameterName]=parameter_dict[parameterName]\n",
    "            elif self.parameter_dict['verbose']:\n",
    "                print('Warning: parameter \"%s\" not supported'%(str(parameterName)))\n",
    "    \n",
    "    def set_potential_gradient_function(self,potential_gradient_function):\n",
    "        self.potential_gradient_function=potential_gradient_function\n",
    "   \n",
    "    def set_x0(self,x0):\n",
    "        self.x0=x0\n",
    "        \n",
    "    def run_sim(\n",
    "        self,\n",
    "        nsteps=10000,\n",
    "        giveVelocities=False,\n",
    "        randomSeed=None,\n",
    "        pbar=None,\n",
    "    ):\n",
    "        \n",
    "        x=self.x0\n",
    "        bPBL=self.parameter_dict['periodicBoundaryLength']\n",
    "        if not (bPBL is None):\n",
    "            x=x%bPBL\n",
    "        bD=self.parameter_dict['diffusionConstant']\n",
    "        kb=self.kb\n",
    "        bT=self.parameter_dict['temperature']\n",
    "        trajInterval=self.parameter_dict['trajectorySnapshotRate']\n",
    "        verbose=self.parameter_dict['verbose']\n",
    "        bVmax=self.parameter_dict['vmax']\n",
    "        gradUfun=self.potential_gradient_function\n",
    "        print(nsteps)\n",
    "        if not (randomSeed is None): #in case we want to specify a specific random seed for reproducibility\n",
    "            np.random.seed(randomSeed)\n",
    "        trajectoryData=np.zeros(int(nsteps/trajInterval))\n",
    "        if giveVelocities:\n",
    "            velocityData=np.zeros(nsteps)\n",
    "        \n",
    "        tStep=0    \n",
    "        stable=True\n",
    "        # X'(t)=-D/(kbT)*grad(U(X))+√(2D)*R(t)\n",
    "        #R -> stationary gaussian process\n",
    "        while (tStep<nsteps) and stable:\n",
    "            v=-bD/(kb*bT)*gradUfun(x)+np.sqrt(2*bD)*np.random.standard_normal()\n",
    "            if (tStep%trajInterval) == 0:\n",
    "                trajectoryData[int(tStep/trajInterval)]=x\n",
    "                if giveVelocities:\n",
    "                    velocityData[int(tStep/trajInterval)]=v\n",
    "            if np.abs(v)>bVmax:\n",
    "                stable=False\n",
    "                if verbose:\n",
    "                    print(\n",
    "                        (\"ERROR (step %g): velocity (%.3e) exceeds maximum (%.3e),\"+\\\n",
    "                        \"simulation terminated due to instability\")%(\n",
    "                            tStep,v,bVmax\n",
    "                        )\n",
    "                    )\n",
    "            if not pbar is None:\n",
    "                pbar.update()\n",
    "            x=x+v\n",
    "            if not (bPBL is None):\n",
    "                x=x%bPBL\n",
    "            tStep=tStep+1\n",
    "        outDict=dict(\n",
    "            trajectory=trajectoryData[:(int(tStep/trajInterval)+1)]\n",
    "        )\n",
    "        if giveVelocities:\n",
    "            outDict['velocities']=velocityData[:(int(tStep/trajInterval)+1)]\n",
    "        return(outDict)"
   ]
  },
  {
   "cell_type": "markdown",
   "metadata": {},
   "source": [
    "## Simple symetric case"
   ]
  },
  {
   "cell_type": "code",
   "execution_count": 395,
   "metadata": {},
   "outputs": [
    {
     "data": {
      "image/png": "[encoded data removed]",
      "text/plain": [
       "<Figure size 432x288 with 1 Axes>"
      ]
     },
     "metadata": {
      "needs_background": "light"
     },
     "output_type": "display_data"
    }
   ],
   "source": [
    "def potFun(x):\n",
    "    return(1.0/1024.0*(x/10.)**6-.0625*(x/10.)**2)\n",
    "def potGradFun(x):\n",
    "    return(6.0/1024.0*(x/10.)**5-.125*(x/10.))\n",
    "\n",
    "xgrid=np.linspace(-30,30,101)\n",
    "sns.lineplot(\n",
    "    x=xgrid,\n",
    "    y=potFun(xgrid),\n",
    "    label='U(X) (kcal/mol)'\n",
    ")\n",
    "sns.lineplot(\n",
    "    x=xgrid,\n",
    "    y=potGradFun(xgrid),\n",
    "    label='grad(U(X)) (kcal/(mol*Å))'\n",
    ")\n",
    "plt.ylim(-.5,.5)\n",
    "plt.xlabel('X (Å)')\n",
    "plt.show()"
   ]
  },
  {
   "cell_type": "code",
   "execution_count": 398,
   "metadata": {},
   "outputs": [],
   "source": [
    "#Air(g)-water(g) diffusion constant: .282 cm**2/s (at 25 ºC)\n",
    "# -> (10**-8)**2/10**-15 = 10**-1 Å**2/fs per cm**2/s\n",
    "# so Air-water = .0282 Å**2/fs\n",
    "diffCoef=.0282*310.15/298.15 #Approximate scaling to body temperature \n",
    "\n",
    "bd_Sim=Simple_1D_BD_Sim(potGradFun)\n",
    "bd_Sim.set_parameters(dict(\n",
    "    diffusionConstant=diffCoef,\n",
    "    vmax=15.0,\n",
    "    trajectorySnapshotRate=1000,\n",
    "    verbose=True,\n",
    "))\n",
    "bd_Sim.set_x0(-25.)"
   ]
  },
  {
   "cell_type": "code",
   "execution_count": 399,
   "metadata": {},
   "outputs": [
    {
     "data": {
      "text/plain": [
       "'x0=-25.000000'"
      ]
     },
     "metadata": {},
     "output_type": "display_data"
    },
    {
     "data": {
      "text/plain": [
       "{'diffusionConstant': 0.02933499916149589,\n",
       " 'temperature': 310.15,\n",
       " 'vmax': 15.0,\n",
       " 'trajectorySnapshotRate': 1000,\n",
       " 'periodicBoundaryLength': None,\n",
       " 'verbose': True}"
      ]
     },
     "execution_count": 399,
     "metadata": {},
     "output_type": "execute_result"
    }
   ],
   "source": [
    "display('x0=%f'%bd_Sim.x0)\n",
    "bd_Sim.parameter_dict"
   ]
  },
  {
   "cell_type": "code",
   "execution_count": 400,
   "metadata": {},
   "outputs": [
    {
     "name": "stderr",
     "output_type": "stream",
     "text": [
      "/home/wesley/.local/lib/python3.7/site-packages/ipykernel_launcher.py:2: TqdmDeprecationWarning: This function will be removed in tqdm==5.0.0\n",
      "Please use `tqdm.notebook.tqdm` instead of `tqdm.tqdm_notebook`\n",
      "  \n"
     ]
    },
    {
     "data": {
      "application/vnd.jupyter.widget-view+json": {
       "model_id": "ce1f20517b7a46408f742565234b75a5",
       "version_major": 2,
       "version_minor": 0
      },
      "text/plain": [
       "HBox(children=(HTML(value=''), FloatProgress(value=0.0, max=100000000.0), HTML(value='')))"
      ]
     },
     "metadata": {},
     "output_type": "display_data"
    },
    {
     "name": "stdout",
     "output_type": "stream",
     "text": [
      "100000000\n"
     ]
    }
   ],
   "source": [
    "nsteps=100000000\n",
    "trajData=bd_Sim.run_sim(nsteps=nsteps,pbar=tqdm.tqdm_notebook(total=nsteps))"
   ]
  },
  {
   "cell_type": "code",
   "execution_count": 401,
   "metadata": {},
   "outputs": [
    {
     "name": "stdout",
     "output_type": "stream",
     "text": [
      "\n"
     ]
    },
    {
     "data": {
      "image/png": "[encoded data removed]",
      "text/plain": [
       "<Figure size 432x288 with 1 Axes>"
      ]
     },
     "metadata": {
      "needs_background": "light"
     },
     "output_type": "display_data"
    }
   ],
   "source": [
    "sns.lineplot(\n",
    "    x=np.arange(len(trajData['trajectory']))*.01,\n",
    "    y=trajData['trajectory']\n",
    ")\n",
    "plt.ylabel('X (Å)')\n",
    "plt.xlabel('Time (ns)')\n",
    "plt.show()"
   ]
  },
  {
   "cell_type": "code",
   "execution_count": 402,
   "metadata": {},
   "outputs": [
    {
     "data": {
      "image/png": "[encoded data removed]",
      "text/plain": [
       "<Figure size 432x288 with 1 Axes>"
      ]
     },
     "metadata": {
      "needs_background": "light"
     },
     "output_type": "display_data"
    }
   ],
   "source": [
    "plt.hist(\n",
    "    x=trajData['trajectory'],\n",
    "    bins=31,\n",
    "    density=True,\n",
    "    log=True\n",
    ")\n",
    "plt.show()"
   ]
  },
  {
   "cell_type": "code",
   "execution_count": 403,
   "metadata": {},
   "outputs": [
    {
     "data": {
      "text/plain": [
       "(array([  224,  1548,  4818,  8492,  9585,  7702,  5566,  3541,  2226,\n",
       "         1416,   946,   722,   557,   475,   473,   456,   490,   562,\n",
       "          726,   993,  1521,  2377,  3727,  5869,  8368, 10092,  9252,\n",
       "         5326,  1710,   218]),\n",
       " array([-30., -28., -26., -24., -22., -20., -18., -16., -14., -12., -10.,\n",
       "         -8.,  -6.,  -4.,  -2.,   0.,   2.,   4.,   6.,   8.,  10.,  12.,\n",
       "         14.,  16.,  18.,  20.,  22.,  24.,  26.,  28.,  30.]))"
      ]
     },
     "execution_count": 403,
     "metadata": {},
     "output_type": "execute_result"
    }
   ],
   "source": [
    "np.histogram(trajData['trajectory'],bins=np.linspace(-30,30,31))"
   ]
  },
  {
   "cell_type": "code",
   "execution_count": 404,
   "metadata": {},
   "outputs": [
    {
     "data": {
      "text/html": [
       "<div>\n",
       "<style scoped>\n",
       "    .dataframe tbody tr th:only-of-type {\n",
       "        vertical-align: middle;\n",
       "    }\n",
       "\n",
       "    .dataframe tbody tr th {\n",
       "        vertical-align: top;\n",
       "    }\n",
       "\n",
       "    .dataframe thead th {\n",
       "        text-align: right;\n",
       "    }\n",
       "</style>\n",
       "<table border=\"1\" class=\"dataframe\">\n",
       "  <thead>\n",
       "    <tr style=\"text-align: right;\">\n",
       "      <th></th>\n",
       "      <th>Time</th>\n",
       "      <th>X</th>\n",
       "    </tr>\n",
       "  </thead>\n",
       "  <tbody>\n",
       "    <tr>\n",
       "      <th>0</th>\n",
       "      <td>0</td>\n",
       "      <td>-25.000000</td>\n",
       "    </tr>\n",
       "    <tr>\n",
       "      <th>1</th>\n",
       "      <td>1</td>\n",
       "      <td>-24.998660</td>\n",
       "    </tr>\n",
       "    <tr>\n",
       "      <th>2</th>\n",
       "      <td>2</td>\n",
       "      <td>-15.894602</td>\n",
       "    </tr>\n",
       "    <tr>\n",
       "      <th>3</th>\n",
       "      <td>3</td>\n",
       "      <td>-13.826689</td>\n",
       "    </tr>\n",
       "    <tr>\n",
       "      <th>4</th>\n",
       "      <td>4</td>\n",
       "      <td>-22.487863</td>\n",
       "    </tr>\n",
       "  </tbody>\n",
       "</table>\n",
       "</div>"
      ],
      "text/plain": [
       "   Time          X\n",
       "0     0 -25.000000\n",
       "1     1 -24.998660\n",
       "2     2 -15.894602\n",
       "3     3 -13.826689\n",
       "4     4 -22.487863"
      ]
     },
     "metadata": {},
     "output_type": "display_data"
    }
   ],
   "source": [
    "trajTable=pd.DataFrame(dict(\n",
    "    Time=np.arange(len(trajData['trajectory'])),\n",
    "    X=trajData['trajectory']\n",
    "))\n",
    "if 'velocities' in trajData:\n",
    "    trajTable['V']=trajData['velocities']\n",
    "    \n",
    "display(trajTable.head())\n",
    "trajTable.to_csv('symmetric_case.raw_trajectory_data.csv')"
   ]
  },
  {
   "cell_type": "markdown",
   "metadata": {},
   "source": [
    "## Simple Asymmetric Case"
   ]
  },
  {
   "cell_type": "code",
   "execution_count": 405,
   "metadata": {},
   "outputs": [
    {
     "data": {
      "image/png": "[encoded data removed]",
      "text/plain": [
       "<Figure size 432x288 with 1 Axes>"
      ]
     },
     "metadata": {
      "needs_background": "light"
     },
     "output_type": "display_data"
    }
   ],
   "source": [
    "tempx=np.linspace(-35,35,1401)\n",
    "def potFun2(x):\n",
    "    return -.5*(((tempx-.67)/3.)**4-4)/(((tempx-.67)/3.)**4+4) + \\\n",
    "            .5*((tempx/3.)**2-2)/((tempx/3.)**2+2)+ \\\n",
    "            .125*(x>30.0)*(30.-x)**2 + \\\n",
    "            .125*(x<-30.0)*(-30.-x)**2\n",
    "\n",
    "def potGradFun2(x):\n",
    "    return ((36* x**9 - 192.96* x**8 - 843.509* x**7 + 1998.62* x**6 - 24565.5* x**5 + \\\n",
    "         31377.1* x**4 - 419813.* x**3 + 829957.* x**2 + 3.21835E6* x + 126292.)/ \\\n",
    "        ((x**2 + 18)**2 *(x**4 - 2.68* x**3 + 2.6934* x**2 - 1.20305* x + 324.202)**2)) - \\\n",
    "        .250*(x>30.0)*(30.-x) - .250*(x<-30.)*(-30.-x)\n",
    "\n",
    "sns.lineplot(x=tempx,y=tempx*0.,label=0,color='grey')\n",
    "sns.lineplot(x=tempx,y=potFun2(tempx),label=\"U(X)\")\n",
    "sns.lineplot(x=tempx,y=potGradFun2(tempx),label=\"grad(U(X))\")\n",
    "plt.ylim(-.3,.3)\n",
    "plt.grid()\n",
    "plt.show()"
   ]
  },
  {
   "cell_type": "code",
   "execution_count": 406,
   "metadata": {},
   "outputs": [],
   "source": [
    "#Air(g)-water(g) diffusion constant: .282 cm**2/s (at 25 ºC)\n",
    "# -> (10**-8)**2/10**-15 = 10**-1 Å**2/fs per cm**2/s\n",
    "# so Air-water = .0282 Å**2/fs\n",
    "diffCoef=.0282*310.15/398.15 #Approximate scaling to body temperature \n",
    "\n",
    "bd_Sim2=Simple_1D_BD_Sim(potGradFun2)\n",
    "bd_Sim2.set_parameters(dict(\n",
    "    diffusionConstant=diffCoef,\n",
    "    vmax=100.0,\n",
    "    trajectorySnapshotRate=1000,\n",
    "    verbose=True,\n",
    "))\n",
    "bd_Sim2.set_x0(-25.)"
   ]
  },
  {
   "cell_type": "code",
   "execution_count": 407,
   "metadata": {},
   "outputs": [
    {
     "data": {
      "text/plain": [
       "'x0=-25.000000'"
      ]
     },
     "metadata": {},
     "output_type": "display_data"
    },
    {
     "data": {
      "text/plain": [
       "{'diffusionConstant': 0.021967173175938715,\n",
       " 'temperature': 310.15,\n",
       " 'vmax': 100.0,\n",
       " 'trajectorySnapshotRate': 1000,\n",
       " 'periodicBoundaryLength': None,\n",
       " 'verbose': True}"
      ]
     },
     "execution_count": 407,
     "metadata": {},
     "output_type": "execute_result"
    }
   ],
   "source": [
    "display('x0=%f'%bd_Sim2.x0)\n",
    "bd_Sim2.parameter_dict"
   ]
  },
  {
   "cell_type": "code",
   "execution_count": 408,
   "metadata": {},
   "outputs": [
    {
     "name": "stderr",
     "output_type": "stream",
     "text": [
      "/home/wesley/.local/lib/python3.7/site-packages/ipykernel_launcher.py:5: TqdmDeprecationWarning: This function will be removed in tqdm==5.0.0\n",
      "Please use `tqdm.notebook.tqdm` instead of `tqdm.tqdm_notebook`\n",
      "  \"\"\"\n"
     ]
    },
    {
     "data": {
      "application/vnd.jupyter.widget-view+json": {
       "model_id": "e47cf936b0bb4a8b8b1e997ca9b030c5",
       "version_major": 2,
       "version_minor": 0
      },
      "text/plain": [
       "HBox(children=(HTML(value=''), FloatProgress(value=0.0, max=100000000.0), HTML(value='')))"
      ]
     },
     "metadata": {},
     "output_type": "display_data"
    },
    {
     "name": "stdout",
     "output_type": "stream",
     "text": [
      "100000000\n"
     ]
    }
   ],
   "source": [
    "nsteps=100000000\n",
    "trajData2=bd_Sim2.run_sim(\n",
    "    nsteps=nsteps,\n",
    "    giveVelocities=True,\n",
    "    pbar=tqdm.tqdm_notebook(total=nsteps))"
   ]
  },
  {
   "cell_type": "code",
   "execution_count": 409,
   "metadata": {},
   "outputs": [
    {
     "data": {
      "text/plain": [
       "{'trajectory': array([-25.        , -12.76437521, -14.87500758, ..., -19.23660815,\n",
       "        -25.2221135 , -17.32623955]),\n",
       " 'velocities': array([ 0.00327625,  0.03208498, -0.22129826, ..., -0.06361546,\n",
       "        -0.03329538,  0.        ])}"
      ]
     },
     "execution_count": 409,
     "metadata": {},
     "output_type": "execute_result"
    }
   ],
   "source": [
    "trajData2"
   ]
  },
  {
   "cell_type": "code",
   "execution_count": 410,
   "metadata": {},
   "outputs": [
    {
     "name": "stdout",
     "output_type": "stream",
     "text": [
      "\n"
     ]
    },
    {
     "data": {
      "image/png": "[encoded data removed]",
      "text/plain": [
       "<Figure size 432x288 with 1 Axes>"
      ]
     },
     "metadata": {
      "needs_background": "light"
     },
     "output_type": "display_data"
    }
   ],
   "source": [
    "sns.lineplot(\n",
    "    x=np.arange(len(trajData2['trajectory']))*.01,\n",
    "    y=trajData2['trajectory']\n",
    ")\n",
    "plt.ylabel('X (Å)')\n",
    "plt.xlabel('Time (ns)')\n",
    "plt.ylim(-35,35)\n",
    "plt.show()"
   ]
  },
  {
   "cell_type": "code",
   "execution_count": 411,
   "metadata": {},
   "outputs": [
    {
     "data": {
      "image/png": "[encoded data removed]",
      "text/plain": [
       "<Figure size 432x288 with 1 Axes>"
      ]
     },
     "metadata": {
      "needs_background": "light"
     },
     "output_type": "display_data"
    }
   ],
   "source": [
    "plt.hist(\n",
    "    x=trajData2['trajectory'],\n",
    "    bins=31,\n",
    "    density=True,\n",
    "    #log=True\n",
    ")\n",
    "plt.show()"
   ]
  },
  {
   "cell_type": "code",
   "execution_count": 412,
   "metadata": {},
   "outputs": [
    {
     "data": {
      "text/plain": [
       "(array([3098, 3077, 3089, 3121, 3225, 3140, 3229, 3246, 3420, 3484, 3715,\n",
       "        4002, 3888, 3111, 2850, 2702, 2059, 2576, 3317, 3552, 3375, 3350,\n",
       "        3061, 3068, 2993, 2867, 2870, 2788, 2848, 2973]),\n",
       " array([-30., -28., -26., -24., -22., -20., -18., -16., -14., -12., -10.,\n",
       "         -8.,  -6.,  -4.,  -2.,   0.,   2.,   4.,   6.,   8.,  10.,  12.,\n",
       "         14.,  16.,  18.,  20.,  22.,  24.,  26.,  28.,  30.]))"
      ]
     },
     "execution_count": 412,
     "metadata": {},
     "output_type": "execute_result"
    }
   ],
   "source": [
    "np.histogram(trajData2['trajectory'],bins=np.linspace(-30,30,31))"
   ]
  },
  {
   "cell_type": "code",
   "execution_count": 413,
   "metadata": {},
   "outputs": [
    {
     "data": {
      "image/png": "[encoded data removed]",
      "text/plain": [
       "<Figure size 432x288 with 1 Axes>"
      ]
     },
     "metadata": {
      "needs_background": "light"
     },
     "output_type": "display_data"
    }
   ],
   "source": [
    "sns.lineplot(\n",
    "    x=np.arange(len(trajData2['velocities']))*.01,\n",
    "    y=trajData2['velocities']\n",
    ")\n",
    "plt.ylabel('X (Å)')\n",
    "plt.xlabel('Time (ns)')\n",
    "plt.ylim(-10,10)\n",
    "plt.show()"
   ]
  },
  {
   "cell_type": "code",
   "execution_count": 416,
   "metadata": {},
   "outputs": [
    {
     "data": {
      "text/html": [
       "<div>\n",
       "<style scoped>\n",
       "    .dataframe tbody tr th:only-of-type {\n",
       "        vertical-align: middle;\n",
       "    }\n",
       "\n",
       "    .dataframe tbody tr th {\n",
       "        vertical-align: top;\n",
       "    }\n",
       "\n",
       "    .dataframe thead th {\n",
       "        text-align: right;\n",
       "    }\n",
       "</style>\n",
       "<table border=\"1\" class=\"dataframe\">\n",
       "  <thead>\n",
       "    <tr style=\"text-align: right;\">\n",
       "      <th></th>\n",
       "      <th>Time</th>\n",
       "      <th>X</th>\n",
       "      <th>V</th>\n",
       "    </tr>\n",
       "  </thead>\n",
       "  <tbody>\n",
       "    <tr>\n",
       "      <th>0</th>\n",
       "      <td>0</td>\n",
       "      <td>-25.000000</td>\n",
       "      <td>0.003276</td>\n",
       "    </tr>\n",
       "    <tr>\n",
       "      <th>1</th>\n",
       "      <td>1</td>\n",
       "      <td>-12.764375</td>\n",
       "      <td>0.032085</td>\n",
       "    </tr>\n",
       "    <tr>\n",
       "      <th>2</th>\n",
       "      <td>2</td>\n",
       "      <td>-14.875008</td>\n",
       "      <td>-0.221298</td>\n",
       "    </tr>\n",
       "    <tr>\n",
       "      <th>3</th>\n",
       "      <td>3</td>\n",
       "      <td>-24.724078</td>\n",
       "      <td>-0.176363</td>\n",
       "    </tr>\n",
       "    <tr>\n",
       "      <th>4</th>\n",
       "      <td>4</td>\n",
       "      <td>-12.695849</td>\n",
       "      <td>0.000143</td>\n",
       "    </tr>\n",
       "  </tbody>\n",
       "</table>\n",
       "</div>"
      ],
      "text/plain": [
       "   Time          X         V\n",
       "0     0 -25.000000  0.003276\n",
       "1     1 -12.764375  0.032085\n",
       "2     2 -14.875008 -0.221298\n",
       "3     3 -24.724078 -0.176363\n",
       "4     4 -12.695849  0.000143"
      ]
     },
     "metadata": {},
     "output_type": "display_data"
    }
   ],
   "source": [
    "trajTable2=pd.DataFrame(dict(\n",
    "    Time=np.arange(len(trajData2['trajectory'])),\n",
    "    X=trajData2['trajectory']\n",
    "))\n",
    "if 'velocities' in trajData2:\n",
    "    trajTable2['V']=np.array(trajData2['velocities'])[:len(trajTable2)]\n",
    "    \n",
    "display(trajTable2.head())\n",
    "trajTable2.to_csv('asymmetric_case.raw_trajectory_data.csv')"
   ]
  },
  {
   "cell_type": "markdown",
   "metadata": {},
   "source": [
    "# Load and Analyze Trajectory Data\n",
    "\n",
    "## Symmetric Case"
   ]
  },
  {
   "cell_type": "code",
   "execution_count": 425,
   "metadata": {},
   "outputs": [],
   "source": [
    "import analysis_functions"
   ]
  },
  {
   "cell_type": "code",
   "execution_count": 418,
   "metadata": {},
   "outputs": [
    {
     "data": {
      "text/html": [
       "<div>\n",
       "<style scoped>\n",
       "    .dataframe tbody tr th:only-of-type {\n",
       "        vertical-align: middle;\n",
       "    }\n",
       "\n",
       "    .dataframe tbody tr th {\n",
       "        vertical-align: top;\n",
       "    }\n",
       "\n",
       "    .dataframe thead th {\n",
       "        text-align: right;\n",
       "    }\n",
       "</style>\n",
       "<table border=\"1\" class=\"dataframe\">\n",
       "  <thead>\n",
       "    <tr style=\"text-align: right;\">\n",
       "      <th></th>\n",
       "      <th>Time</th>\n",
       "      <th>X</th>\n",
       "    </tr>\n",
       "  </thead>\n",
       "  <tbody>\n",
       "    <tr>\n",
       "      <th>0</th>\n",
       "      <td>0</td>\n",
       "      <td>-25.000000</td>\n",
       "    </tr>\n",
       "    <tr>\n",
       "      <th>1</th>\n",
       "      <td>1</td>\n",
       "      <td>-24.998660</td>\n",
       "    </tr>\n",
       "    <tr>\n",
       "      <th>2</th>\n",
       "      <td>2</td>\n",
       "      <td>-15.894602</td>\n",
       "    </tr>\n",
       "    <tr>\n",
       "      <th>3</th>\n",
       "      <td>3</td>\n",
       "      <td>-13.826689</td>\n",
       "    </tr>\n",
       "    <tr>\n",
       "      <th>4</th>\n",
       "      <td>4</td>\n",
       "      <td>-22.487863</td>\n",
       "    </tr>\n",
       "  </tbody>\n",
       "</table>\n",
       "</div>"
      ],
      "text/plain": [
       "   Time          X\n",
       "0     0 -25.000000\n",
       "1     1 -24.998660\n",
       "2     2 -15.894602\n",
       "3     3 -13.826689\n",
       "4     4 -22.487863"
      ]
     },
     "execution_count": 418,
     "metadata": {},
     "output_type": "execute_result"
    }
   ],
   "source": [
    "symmData=pd.read_csv(\"symmetric_case.raw_trajectory_data.csv\")\n",
    "symmData=symmData.drop(columns=symmData.columns[0])\n",
    "symmData.head()"
   ]
  },
  {
   "cell_type": "code",
   "execution_count": 438,
   "metadata": {},
   "outputs": [
    {
     "name": "stdout",
     "output_type": "stream",
     "text": [
      "binEdges = [-25. -23. -21. -19. -17. -15. -13. -11.  -9.  -7.  -5.  -3.  -1.   1.\n",
      "   3.   5.   7.   9.  11.  13.  15.  17.  19.  21.  23.  25.]\n",
      "binCenters = [-24. -22. -20. -18. -16. -14. -12. -10.  -8.  -6.  -4.  -2.   0.   2.\n",
      "   4.   6.   8.  10.  12.  14.  16.  18.  20.  22.  24.]\n"
     ]
    },
    {
     "data": {
      "text/html": [
       "<div>\n",
       "<style scoped>\n",
       "    .dataframe tbody tr th:only-of-type {\n",
       "        vertical-align: middle;\n",
       "    }\n",
       "\n",
       "    .dataframe tbody tr th {\n",
       "        vertical-align: top;\n",
       "    }\n",
       "\n",
       "    .dataframe thead th {\n",
       "        text-align: right;\n",
       "    }\n",
       "</style>\n",
       "<table border=\"1\" class=\"dataframe\">\n",
       "  <thead>\n",
       "    <tr style=\"text-align: right;\">\n",
       "      <th></th>\n",
       "      <th>Time</th>\n",
       "      <th>X</th>\n",
       "      <th>X_Ind</th>\n",
       "    </tr>\n",
       "  </thead>\n",
       "  <tbody>\n",
       "    <tr>\n",
       "      <th>0</th>\n",
       "      <td>0</td>\n",
       "      <td>-25.000000</td>\n",
       "      <td>0</td>\n",
       "    </tr>\n",
       "    <tr>\n",
       "      <th>1</th>\n",
       "      <td>1</td>\n",
       "      <td>-24.998660</td>\n",
       "      <td>0</td>\n",
       "    </tr>\n",
       "    <tr>\n",
       "      <th>2</th>\n",
       "      <td>2</td>\n",
       "      <td>-15.894602</td>\n",
       "      <td>4</td>\n",
       "    </tr>\n",
       "    <tr>\n",
       "      <th>3</th>\n",
       "      <td>3</td>\n",
       "      <td>-13.826689</td>\n",
       "      <td>5</td>\n",
       "    </tr>\n",
       "    <tr>\n",
       "      <th>4</th>\n",
       "      <td>4</td>\n",
       "      <td>-22.487863</td>\n",
       "      <td>1</td>\n",
       "    </tr>\n",
       "  </tbody>\n",
       "</table>\n",
       "</div>"
      ],
      "text/plain": [
       "   Time          X  X_Ind\n",
       "0     0 -25.000000      0\n",
       "1     1 -24.998660      0\n",
       "2     2 -15.894602      4\n",
       "3     3 -13.826689      5\n",
       "4     4 -22.487863      1"
      ]
     },
     "execution_count": 438,
     "metadata": {},
     "output_type": "execute_result"
    }
   ],
   "source": [
    "binEdges=np.linspace(-25,25,26)\n",
    "binCenters=(binEdges[:-1]+binEdges[1:])/2.\n",
    "print(\n",
    "    \"binEdges = %s\"%binEdges + \"\\nbinCenters = %s\"%binCenters\n",
    ")\n",
    "symmData['X_Ind']=symmData['X'].apply(\n",
    "    lambda x: np.argmin(np.abs(x-binCenters))\n",
    ")\n",
    "symmData.head()"
   ]
  },
  {
   "cell_type": "code",
   "execution_count": null,
   "metadata": {},
   "outputs": [],
   "source": []
  }
 ],
 "metadata": {
  "kernelspec": {
   "display_name": "Python 3",
   "language": "python",
   "name": "python3"
  },
  "language_info": {
   "codemirror_mode": {
    "name": "ipython",
    "version": 3
   },
   "file_extension": ".py",
   "mimetype": "text/x-python",
   "name": "python",
   "nbconvert_exporter": "python",
   "pygments_lexer": "ipython3",
   "version": "3.7.5"
  }
 },
 "nbformat": 4,
 "nbformat_minor": 4
}
